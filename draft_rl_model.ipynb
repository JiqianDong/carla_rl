{
 "cells": [
  {
   "cell_type": "code",
   "execution_count": 1,
   "metadata": {},
   "outputs": [],
   "source": [
    "import numpy as np\n",
    "import tensorflow as tf"
   ]
  },
  {
   "cell_type": "code",
   "execution_count": 2,
   "metadata": {},
   "outputs": [],
   "source": []
  },
  {
   "cell_type": "code",
   "execution_count": 2,
   "metadata": {
    "tags": []
   },
   "outputs": [],
   "source": [
    "# ! pip install gym"
   ]
  },
  {
   "cell_type": "code",
   "execution_count": 3,
   "metadata": {},
   "outputs": [],
   "source": [
    "from gym.spaces import Discrete\n",
    "from gym.spaces import Tuple\n",
    "from gym.spaces.box import Box"
   ]
  },
  {
   "cell_type": "code",
   "execution_count": 4,
   "metadata": {},
   "outputs": [],
   "source": [
    "throttle_brake = Discrete(3)  # -1 brake, 0 keep, 1 throttle\n",
    "steering = Discrete(3)\n",
    "action_space = Tuple([throttle_brake,steering])\n",
    "\n",
    "N = 4 # FIXME not hard code\n",
    "F = 6 # FIXME not hard code\n",
    "state_space = Box(low=-np.inf, high=np.inf, shape=(N,F), dtype=np.float32)"
   ]
  },
  {
   "cell_type": "code",
   "execution_count": 6,
   "metadata": {},
   "outputs": [],
   "source": [
    "from tensorflow.keras.layers import Input, Dense, Lambda, Multiply, Reshape, Flatten, Masking, LSTM, Concatenate\n",
    "from tensorflow.keras.models import Model\n",
    "\n"
   ]
  },
  {
   "cell_type": "code",
   "execution_count": 14,
   "metadata": {
    "tags": []
   },
   "outputs": [
    {
     "output_type": "stream",
     "name": "stdout",
     "text": "Model: \"model_1\"\n__________________________________________________________________________________________________\nLayer (type)                    Output Shape         Param #     Connected to                     \n==================================================================================================\ncav_input (InputLayer)          [(None, 6)]          0                                            \n__________________________________________________________________________________________________\ncav_action (InputLayer)         [(None, 3)]          0                                            \n__________________________________________________________________________________________________\nconcatenate_7 (Concatenate)     (None, 9)            0           cav_input[0][0]                  \n                                                                 cav_action[0][0]                 \n__________________________________________________________________________________________________\nCAV_dynamics_1 (Dense)          (None, 32)           320         concatenate_7[0][0]              \n__________________________________________________________________________________________________\nCAV_dynamics_2 (Dense)          (None, 16)           528         CAV_dynamics_1[0][0]             \n__________________________________________________________________________________________________\ndense_7 (Dense)                 (None, 6)            102         CAV_dynamics_2[0][0]             \n==================================================================================================\nTotal params: 950\nTrainable params: 950\nNon-trainable params: 0\n__________________________________________________________________________________________________\n"
    }
   ],
   "source": [
    "CAV_state_input = Input(name=\"cav_input\",shape=(6,))\n",
    "CAV_action_input = Input(name=\"cav_action\",shape=(3,)) #throttle, brake, steering\n",
    "input_concate = Concatenate(axis=-1)([CAV_state_input,CAV_action_input])\n",
    "x = Dense(32,activation='relu',name=\"CAV_dynamics_1\")(input_concate)\n",
    "x = Dense(16,activation='relu',name=\"CAV_dynamics_2\")(x)\n",
    "out = Dense(6,activation=None)(x)\n",
    "CAV_dynamics = Model(inputs=[CAV_state_input,CAV_action_input], outputs=out)\n",
    "CAV_dynamics.summary()"
   ]
  },
  {
   "cell_type": "code",
   "execution_count": 17,
   "metadata": {
    "tags": []
   },
   "outputs": [
    {
     "output_type": "stream",
     "name": "stdout",
     "text": "Model: \"model_4\"\n_________________________________________________________________\nLayer (type)                 Output Shape              Param #   \n=================================================================\nhdv_input (InputLayer)       [(None, 6)]               0         \n_________________________________________________________________\nHDV_dynamics_1 (Dense)       (None, 32)                224       \n_________________________________________________________________\nHDV_dynamics_2 (Dense)       (None, 16)                528       \n_________________________________________________________________\ndense_10 (Dense)             (None, 6)                 102       \n=================================================================\nTotal params: 854\nTrainable params: 854\nNon-trainable params: 0\n_________________________________________________________________\n"
    }
   ],
   "source": [
    "HDV_state_input = Input(name=\"hdv_input\",shape=(6,))\n",
    "x = Dense(32,activation='relu',name=\"HDV_dynamics_1\")(HDV_state_input)\n",
    "x = Dense(16,activation='relu',name=\"HDV_dynamics_2\")(x)\n",
    "out = Dense(6,activation=None)(x)\n",
    "HDV_dynamics = Model(inputs=HDV_state_input, outputs=out)\n",
    "HDV_dynamics.summary()"
   ]
  },
  {
   "cell_type": "code",
   "execution_count": null,
   "metadata": {},
   "outputs": [],
   "source": []
  },
  {
   "cell_type": "code",
   "execution_count": null,
   "metadata": {},
   "outputs": [],
   "source": []
  },
  {
   "cell_type": "markdown",
   "metadata": {},
   "source": [
    "# Reverse the control commands"
   ]
  },
  {
   "cell_type": "code",
   "execution_count": 7,
   "metadata": {},
   "outputs": [],
   "source": [
    "import glob\n",
    "import pickle"
   ]
  },
  {
   "cell_type": "code",
   "execution_count": 10,
   "metadata": {
    "tags": []
   },
   "outputs": [
    {
     "output_type": "stream",
     "name": "stdout",
     "text": "/Users/jiqiandong/Desktop/OneDrive - purdue.edu/work2/carla_rl\n"
    }
   ],
   "source": [
    "!pwd"
   ]
  },
  {
   "cell_type": "code",
   "execution_count": 12,
   "metadata": {},
   "outputs": [],
   "source": [
    "with open(\"./control_details/LHDV.p\", 'rb') as f:\n",
    "    commands = pickle.load(f)"
   ]
  },
  {
   "cell_type": "code",
   "execution_count": 16,
   "metadata": {},
   "outputs": [],
   "source": [
    "commands_reversed = []\n",
    "for command in commands:\n",
    "    c = command.copy()\n",
    "    c['steer'] = -command['steer']\n",
    "    commands_reversed.append(c)"
   ]
  },
  {
   "cell_type": "code",
   "execution_count": 17,
   "metadata": {},
   "outputs": [
    {
     "output_type": "execute_result",
     "data": {
      "text/plain": "{'throttle': 0.0,\n 'steer': -0.0,\n 'brake': 0.0,\n 'hand_brake': 0,\n 'reverse': False,\n 'manual_gear_shift': True,\n 'gear': 0}"
     },
     "metadata": {},
     "execution_count": 17
    }
   ],
   "source": [
    "commands_reversed[50]"
   ]
  },
  {
   "cell_type": "code",
   "execution_count": 18,
   "metadata": {},
   "outputs": [
    {
     "output_type": "execute_result",
     "data": {
      "text/plain": "{'throttle': 0.0,\n 'steer': 0.0,\n 'brake': 0.0,\n 'hand_brake': 0,\n 'reverse': False,\n 'manual_gear_shift': True,\n 'gear': 0}"
     },
     "metadata": {},
     "execution_count": 18
    }
   ],
   "source": [
    "commands[50]"
   ]
  },
  {
   "cell_type": "code",
   "execution_count": 19,
   "metadata": {},
   "outputs": [],
   "source": [
    "import random"
   ]
  },
  {
   "cell_type": "code",
   "execution_count": 31,
   "metadata": {},
   "outputs": [
    {
     "output_type": "execute_result",
     "data": {
      "text/plain": "0"
     },
     "metadata": {},
     "execution_count": 31
    }
   ],
   "source": [
    "random.choice([0,1])"
   ]
  },
  {
   "cell_type": "code",
   "execution_count": 32,
   "metadata": {},
   "outputs": [],
   "source": [
    "with open(\"./control_details/LHDV_right.p\", 'wb') as f:\n",
    "    pickle.dump(commands_reversed,f)"
   ]
  },
  {
   "cell_type": "code",
   "execution_count": null,
   "metadata": {},
   "outputs": [],
   "source": []
  },
  {
   "cell_type": "code",
   "execution_count": null,
   "metadata": {},
   "outputs": [],
   "source": []
  },
  {
   "cell_type": "code",
   "execution_count": 1,
   "metadata": {},
   "outputs": [],
   "source": [
    "import numpy as np"
   ]
  },
  {
   "cell_type": "code",
   "execution_count": 2,
   "metadata": {},
   "outputs": [],
   "source": [
    "a = np.array([[1,2,3],[4,5,6]])\n",
    "b = a*2"
   ]
  },
  {
   "cell_type": "code",
   "execution_count": 3,
   "metadata": {},
   "outputs": [
    {
     "output_type": "execute_result",
     "data": {
      "text/plain": "array([[1, 2, 3],\n       [4, 5, 6]])"
     },
     "metadata": {},
     "execution_count": 3
    }
   ],
   "source": [
    "a"
   ]
  },
  {
   "cell_type": "code",
   "execution_count": 4,
   "metadata": {},
   "outputs": [
    {
     "output_type": "execute_result",
     "data": {
      "text/plain": "array([[ 2,  4,  6],\n       [ 8, 10, 12]])"
     },
     "metadata": {},
     "execution_count": 4
    }
   ],
   "source": [
    "b"
   ]
  },
  {
   "cell_type": "code",
   "execution_count": 7,
   "metadata": {},
   "outputs": [
    {
     "output_type": "execute_result",
     "data": {
      "text/plain": "array([[1.5, 3. , 4.5],\n       [6. , 7.5, 9. ]])"
     },
     "metadata": {},
     "execution_count": 7
    }
   ],
   "source": [
    "np.mean([a,b],axis=0)"
   ]
  },
  {
   "cell_type": "code",
   "execution_count": 1,
   "metadata": {},
   "outputs": [],
   "source": [
    "a = {'1':1,'b':2}"
   ]
  },
  {
   "cell_type": "code",
   "execution_count": 3,
   "metadata": {
    "tags": []
   },
   "outputs": [
    {
     "output_type": "stream",
     "name": "stdout",
     "text": "1 1\nb 2\n"
    }
   ],
   "source": [
    "for key,val in a.items():\n",
    "    print(key,val)"
   ]
  },
  {
   "cell_type": "code",
   "execution_count": 6,
   "metadata": {
    "tags": []
   },
   "outputs": [
    {
     "output_type": "stream",
     "name": "stdout",
     "text": "1\n2\n"
    }
   ],
   "source": [
    "for item in a:\n",
    "    print(a[item])"
   ]
  },
  {
   "cell_type": "code",
   "execution_count": 6,
   "metadata": {},
   "outputs": [],
   "source": [
    "a = [[[1,2,3],[4,5,6]],[[1,2,3],[4,5,6]]]"
   ]
  },
  {
   "cell_type": "code",
   "execution_count": 7,
   "metadata": {},
   "outputs": [
    {
     "output_type": "execute_result",
     "data": {
      "text/plain": "[[[1, 2, 3], [4, 5, 6]], [[1, 2, 3], [4, 5, 6]]]"
     },
     "metadata": {},
     "execution_count": 7
    }
   ],
   "source": [
    "a"
   ]
  },
  {
   "cell_type": "code",
   "execution_count": 10,
   "metadata": {},
   "outputs": [
    {
     "output_type": "execute_result",
     "data": {
      "text/plain": "array([[1, 2, 3],\n       [4, 5, 6]])"
     },
     "metadata": {},
     "execution_count": 10
    }
   ],
   "source": [
    "import numpy as np\n",
    "np.array(a)[-1,:,:]"
   ]
  },
  {
   "cell_type": "code",
   "execution_count": null,
   "metadata": {},
   "outputs": [],
   "source": []
  },
  {
   "cell_type": "code",
   "execution_count": null,
   "metadata": {},
   "outputs": [],
   "source": []
  },
  {
   "cell_type": "markdown",
   "metadata": {},
   "source": [
    "## Test dataset"
   ]
  },
  {
   "cell_type": "code",
   "execution_count": 1,
   "metadata": {},
   "outputs": [],
   "source": [
    "import pickle\n",
    "with open('./experience_data/data_pickle.pickle','rb') as f:\n",
    "    d = pickle.load(f)"
   ]
  },
  {
   "cell_type": "code",
   "execution_count": 2,
   "metadata": {},
   "outputs": [],
   "source": [
    "import torch\n",
    "from collections import defaultdict"
   ]
  },
  {
   "cell_type": "code",
   "execution_count": 3,
   "metadata": {},
   "outputs": [],
   "source": [
    "def random_iterator(self, batch_size, return_sequence=True):\n",
    "    \"\"\"\n",
    "    Iterate once through all (s, a, r, s') in batches in a random order\n",
    "    For only training the system dynamic function only.\n",
    "    \"\"\"\n",
    "    all_indices = np.nonzero(np.logical_not(self._dones))[0]\n",
    "    np.random.shuffle(all_indices)\n",
    "    actions = np.array(self._actions)\n",
    "\n",
    "    i = 0\n",
    "    while i < len(all_indices):\n",
    "        indices = all_indices[i:i+batch_size]\n",
    "        output_state = defaultdict(list)\n",
    "        output_next_state = defaultdict(list)\n",
    "        for ind in indices:\n",
    "            current = self._states[ind]\n",
    "            next_ = self._next_states[ind]\n",
    "            for key, val in current.items():\n",
    "                output_state[key].append(val)\n",
    "\n",
    "            for key,val in next_.items():\n",
    "                if return_sequence:\n",
    "                    output_next_state[key].append(val)\n",
    "                else:\n",
    "                    output_next_state[key].append(val[-1,:])\n",
    "\n",
    "        for key in output_state.keys():\n",
    "            output_state[key] = torch.tensor(output_state[key]).float()\n",
    "\n",
    "        for key in output_next_state.keys():\n",
    "            output_next_state[key] = torch.tensor(output_next_state[key]).float()\n",
    "            \n",
    "        yield output_state, actions[indices], output_next_state\n",
    "\n",
    "        i += batch_size"
   ]
  },
  {
   "cell_type": "code",
   "execution_count": null,
   "metadata": {},
   "outputs": [],
   "source": []
  },
  {
   "cell_type": "code",
   "execution_count": null,
   "metadata": {},
   "outputs": [],
   "source": []
  },
  {
   "cell_type": "code",
   "execution_count": 11,
   "metadata": {},
   "outputs": [
    {
     "output_type": "execute_result",
     "data": {
      "text/plain": "torch.Size([3, 2])"
     },
     "metadata": {},
     "execution_count": 11
    }
   ],
   "source": [
    "torch.tensor(next(d.random_iterator(3))[1]).float().shape"
   ]
  },
  {
   "cell_type": "code",
   "execution_count": 12,
   "metadata": {},
   "outputs": [
    {
     "output_type": "execute_result",
     "data": {
      "text/plain": "(defaultdict(list, {}),\n array([], shape=(0, 2), dtype=int64),\n defaultdict(list, {}))"
     },
     "metadata": {},
     "execution_count": 12
    }
   ],
   "source": [
    "next(d.random_iterator(0))"
   ]
  },
  {
   "cell_type": "code",
   "execution_count": null,
   "metadata": {},
   "outputs": [],
   "source": []
  }
 ],
 "metadata": {
  "language_info": {
   "codemirror_mode": {
    "name": "ipython",
    "version": 3
   },
   "file_extension": ".py",
   "mimetype": "text/x-python",
   "name": "python",
   "nbconvert_exporter": "python",
   "pygments_lexer": "ipython3",
   "version": "3.7.8-final"
  },
  "orig_nbformat": 2,
  "kernelspec": {
   "name": "python_defaultSpec_1599539549700",
   "display_name": "Python 3.7.8 64-bit"
  }
 },
 "nbformat": 4,
 "nbformat_minor": 2
}