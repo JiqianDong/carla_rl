{
 "cells": [
  {
   "cell_type": "code",
   "execution_count": 2,
   "metadata": {},
   "outputs": [],
   "source": [
    "import numpy as np\n",
    "import tensorflow as tf"
   ]
  },
  {
   "cell_type": "code",
   "execution_count": 3,
   "metadata": {},
   "outputs": [],
   "source": [
    "from tensorflow.keras.layers import Input, Dense, Lambda, Multiply, Reshape, Flatten, Masking, LSTM, Concatenate\n",
    "from tensorflow.keras.models import Model"
   ]
  },
  {
   "cell_type": "code",
   "execution_count": 5,
   "metadata": {},
   "outputs": [],
   "source": [
    "from gym.spaces import Discrete\n",
    "from gym.spaces import Tuple\n",
    "from gym.spaces.box import Box"
   ]
  },
  {
   "cell_type": "code",
   "execution_count": 6,
   "metadata": {},
   "outputs": [],
   "source": [
    "throttle_brake = Discrete(3)  # -1 brake, 0 keep, 1 throttle\n",
    "steering = Discrete(3)\n",
    "action_space = Tuple([throttle_brake,steering])\n",
    "\n",
    "N = 4 # FIXME not hard code\n",
    "F = 6 # FIXME not hard code\n",
    "state_space = Box(low=-np.inf, high=np.inf, shape=(N,F), dtype=np.float32)"
   ]
  },
  {
   "cell_type": "code",
   "execution_count": null,
   "metadata": {},
   "outputs": [],
   "source": [
    "state_input = Input(shape=(N,F),name=\"state_in\")\n",
    "\n",
    "x = Dense(32,activation=\"relu\",name=\"encoding_1\")(state_input)\n",
    "# x = Dense(32,activation=\"relu\",name=\"encoding_2\")(x)\n",
    "\n",
    "x = "
   ]
  }
 ],
 "metadata": {
  "language_info": {
   "codemirror_mode": {
    "name": "ipython",
    "version": 3
   },
   "file_extension": ".py",
   "mimetype": "text/x-python",
   "name": "python",
   "nbconvert_exporter": "python",
   "pygments_lexer": "ipython3",
   "version": "3.7.3-final"
  },
  "orig_nbformat": 2,
  "kernelspec": {
   "name": "flow",
   "display_name": "flow"
  }
 },
 "nbformat": 4,
 "nbformat_minor": 2
}